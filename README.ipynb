{
 "cells": [
  {
   "cell_type": "markdown",
   "metadata": {},
   "source": [
    "**!!! DOESN'T WORK OUT**",
    "\n",
    "# readme-ipynb\n",
    "This is repo to test if GihHub can deal with ipynb-files as README"
   ]
  },
  {
   "cell_type": "markdown",
   "metadata": {},
   "source": [
    "**table of content**\n",
    "- [about](#about)\n",
    "- [code blocks](#code-blocks)\n",
    "    - [function definition](#function-definition)\n",
    "    - [function call](#function-call)\n",
    "    \n",
    "## about\n",
    "$\\sum_4^3{5}$"
   ]
  },
  {
   "cell_type": "markdown",
   "metadata": {},
   "source": [
    "## code blocks\n",
    "\n",
    "### function definition"
   ]
  },
  {
   "cell_type": "code",
   "execution_count": 1,
   "metadata": {},
   "outputs": [],
   "source": [
    "def func(x: int = 5) -> None:\n",
    "    for i in range(x):\n",
    "        print((i+1)*\" - \".join(\"test\"))"
   ]
  },
  {
   "cell_type": "markdown",
   "metadata": {},
   "source": [
    "### function call"
   ]
  },
  {
   "cell_type": "code",
   "execution_count": 2,
   "metadata": {},
   "outputs": [
    {
     "name": "stdout",
     "output_type": "stream",
     "text": [
      "t - e - s - t\n",
      "t - e - s - tt - e - s - t\n",
      "t - e - s - tt - e - s - tt - e - s - t\n"
     ]
    }
   ],
   "source": [
    "func(3)"
   ]
  },
  {
   "cell_type": "code",
   "execution_count": null,
   "metadata": {},
   "outputs": [],
   "source": []
  }
 ],
 "metadata": {
  "kernelspec": {
   "display_name": "Python 3",
   "language": "python",
   "name": "python3"
  },
  "language_info": {
   "codemirror_mode": {
    "name": "ipython",
    "version": 3
   },
   "file_extension": ".py",
   "mimetype": "text/x-python",
   "name": "python",
   "nbconvert_exporter": "python",
   "pygments_lexer": "ipython3",
   "version": "3.7.3"
  }
 },
 "nbformat": 4,
 "nbformat_minor": 4
}
